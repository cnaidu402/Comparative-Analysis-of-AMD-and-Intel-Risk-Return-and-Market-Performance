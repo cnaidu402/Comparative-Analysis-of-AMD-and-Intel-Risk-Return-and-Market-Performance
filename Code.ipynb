{
 "cells": [
  {
   "cell_type": "markdown",
   "id": "9d7cd4de",
   "metadata": {},
   "source": [
    "# **Comparative Analysis of AMD and Intel: Risk, Return, and Market Performance**"
   ]
  },
  {
   "cell_type": "markdown",
   "id": "c0b405a8",
   "metadata": {},
   "source": [
    "<H2> Introduction to AMD and Intel </H2>\n",
    "<h3> Advanced Micro Devices (AMD):</h3> <br>\n",
    "Advanced Micro Devices (AMD) is a leading semiconductor company specializing in high-performance computing, graphics, and visualization technologies. Founded in 1969, AMD is a key competitor in the CPU and GPU markets, challenging industry giant Intel and GPU leader NVIDIA. The company's Ryzen processors and Radeon graphics cards have gained significant market share, making it a critical player in both consumer and enterprise computing. AMD’s stock is known for its volatility, reflecting its competitive positioning and rapid innovation cycles. <br>\n",
    "<br>\n",
    "<H3> Intel Corporation (INTC): </H3> <br>\n",
    "Intel Corporation, founded in 1968, is one of the world's largest semiconductor companies, primarily known for its dominance in the CPU market. Intel’s processors power a significant portion of personal computers, servers, and data centers globally. Despite facing increased competition from AMD and other semiconductor firms, Intel remains a key player in the industry, focusing on advancements in artificial intelligence, cloud computing, and chip manufacturing. Intel’s stock typically exhibits lower volatility than AMD, reflecting its more stable market presence and diversified product portfolio."
   ]
  },
  {
   "cell_type": "markdown",
   "id": "421dff5e",
   "metadata": {},
   "source": [
    "<h2> Why are we comparing with NASDAQ index? </h2>"
   ]
  },
  {
   "cell_type": "markdown",
   "id": "90d3506d",
   "metadata": {},
   "source": [
    "We are comparing the NASDAQ index because both AMD and Intel are technology companies listed on the NASDAQ stock exchange, which primarily includes technology and growth-oriented companies"
   ]
  },
  {
   "cell_type": "markdown",
   "id": "28a88e07",
   "metadata": {},
   "source": [
    "<h2> Are AMD and Intel Directly Comparable? </h2>"
   ]
  },
  {
   "cell_type": "markdown",
   "id": "d28db4f9",
   "metadata": {},
   "source": [
    "Yes, AMD (Advanced Micro Devices) and Intel are directly comparable because they operate in the same industry and compete in similar market segments. "
   ]
  },
  {
   "cell_type": "markdown",
   "id": "b76f9d19",
   "metadata": {},
   "source": [
    "<h2> Why are we doing this analysis? </h2>"
   ]
  },
  {
   "cell_type": "markdown",
   "id": "ab1b9d03",
   "metadata": {},
   "source": [
    "<B> Beta & Volatility:</B> Comparing AMD and Intel’s beta values helps investors understand their risk profiles relative to the market. <br>\n",
    "<B> Risk-Adjusted Returns:</B> Using Sharpe Ratios, we determine which stock offers better compensation for risk. <br>"
   ]
  },
  {
   "cell_type": "markdown",
   "id": "b209fdd4",
   "metadata": {},
   "source": [
    "Let's start by, Importing required Modules "
   ]
  },
  {
   "cell_type": "code",
   "execution_count": 8,
   "id": "2184a4c7-2353-4696-a6a5-395852a72d73",
   "metadata": {},
   "outputs": [],
   "source": [
    "\n",
    "import pandas as pd\n",
    "from pandas_datareader import data as pdr\n",
    "import matplotlib.pyplot as plt\n",
    "import numpy as np\n",
    "import datetime\n",
    "import seaborn as sns\n",
    "import warnings\n",
    "import yfinance as yf\n",
    "\n",
    "%matplotlib inline\n",
    "warnings.filterwarnings('ignore')\n",
    "import json\n",
    "import requests\n",
    "import time"
   ]
  },
  {
   "cell_type": "markdown",
   "id": "8b5b6c8e",
   "metadata": {},
   "source": [
    "Listing the stocks and Index required for the analysis "
   ]
  },
  {
   "cell_type": "code",
   "execution_count": 9,
   "id": "0bfa4d0f",
   "metadata": {},
   "outputs": [],
   "source": [
    "stocks = ['INTC.US', 'AMD.US','IXIC.INDX']\n",
    "api_token = \" 67c5c77e91eca9.07082353\""
   ]
  },
  {
   "cell_type": "markdown",
   "id": "c5bd0be7",
   "metadata": {},
   "source": [
    "Duration of the analysis 1 year from March 2024 to March 2025"
   ]
  },
  {
   "cell_type": "code",
   "execution_count": 10,
   "id": "b4ae75e8",
   "metadata": {},
   "outputs": [],
   "source": [
    "start_date = '2024-03-01'\n",
    "end_date = '2025-03-01'"
   ]
  },
  {
   "cell_type": "markdown",
   "id": "597955a4",
   "metadata": {},
   "source": [
    "Crearing the Data Frame, pivoting the table for the filtering the columns. "
   ]
  },
  {
   "cell_type": "code",
   "execution_count": 11,
   "id": "7264bbd1",
   "metadata": {},
   "outputs": [
    {
     "name": "stdout",
     "output_type": "stream",
     "text": [
      "\n",
      " Columns Available in DataFrame: ['date', 'open', 'high', 'low', 'close', 'adjusted_close', 'volume', 'Ticker', 'warning']\n",
      "Warning: Data for TSLA is missing in API response.\n",
      "\n",
      " Final DataFrame Shape: (239, 4)\n",
      " Columns: ['date', 'AMD', 'INTC', 'IXIC']\n",
      "\n",
      "🔹 First 5 Rows:\n",
      "        date     AMD   INTC        IXIC\n",
      "0 2024-03-18  190.65  42.71  16103.4502\n",
      "1 2024-03-19  181.42  42.05  16166.7900\n",
      "2 2024-03-20  179.73  42.20  16369.4102\n",
      "3 2024-03-21  178.68  42.42  16401.8398\n",
      "4 2024-03-22  179.65  42.57  16428.8203\n",
      "\n",
      "🔹 Last 5 Rows:\n",
      "          date     AMD   INTC        IXIC\n",
      "234 2025-02-24  108.11  24.27  19286.9297\n",
      "235 2025-02-25  103.96  22.99  19026.3906\n",
      "236 2025-02-26  104.74  23.52  19075.2598\n",
      "237 2025-02-27   99.51  23.09  18544.4199\n",
      "238 2025-02-28   99.86  23.73  18847.2793\n"
     ]
    }
   ],
   "source": [
    "stocks_data_list = []\n",
    "\n",
    "for stock_symbol in stocks:\n",
    "    api_url = f\"https://eodhd.com/api/eod/{stock_symbol}?api_token={api_token}&from={start_date}&to={end_date}&fmt=json\"\n",
    "    \n",
    "    try:\n",
    "        response = requests.get(api_url)\n",
    "        \n",
    "        if response.status_code == 200:\n",
    "            try:\n",
    "                stock_info = response.json()\n",
    "                \n",
    "                if isinstance(stock_info, list) and stock_info:\n",
    "                    for record in stock_info:\n",
    "                        record['Ticker'] = stock_symbol  # Rename 'Stock' to 'Ticker'\n",
    "                    stocks_data_list.extend(stock_info)\n",
    "                else:\n",
    "                    print(f\" No valid data received for {stock_symbol}. API response: {stock_info}\")\n",
    "            \n",
    "            except json.JSONDecodeError as e:\n",
    "                print(f\"JSON Parsing Error for {stock_symbol}: {e}\")\n",
    "                print(f\"Response Content: {response.text[:150]}...\")  # Print first 150 chars of response\n",
    "        \n",
    "        else:\n",
    "            print(f\" API Request Failed for {stock_symbol}. HTTP Status: {response.status_code}\")\n",
    "            print(f\"Response Content: {response.text[:150]}...\")  # Print response snippet\n",
    "\n",
    "    except requests.exceptions.RequestException as e:\n",
    "        print(f\"Network Error while fetching data for {stock_symbol}: {e}\")\n",
    "    \n",
    "    time.sleep(0.5)  # Avoid hitting API rate limits\n",
    "\n",
    "\n",
    "if not stocks_data_list:\n",
    "    print(\"No stock data collected. Check API credentials and endpoint.\")\n",
    "else:\n",
    "    stock_df = pd.DataFrame(stocks_data_list)\n",
    "    \n",
    "    \n",
    "    print(\"\\n Columns Available in DataFrame:\", stock_df.columns.tolist())\n",
    "\n",
    "   \n",
    "    if 'date' in stock_df.columns:\n",
    "        stock_df['date'] = pd.to_datetime(stock_df['date'])\n",
    "    else:\n",
    "        print(\" date column missing in API response. Available columns:\", stock_df.columns.tolist())\n",
    "        exit()\n",
    "\n",
    "    \n",
    "    stock_df['StockSymbol'] = stock_df['Ticker'].str.split('.').str[0]\n",
    "\n",
    "    \n",
    "    final_df = stock_df.pivot_table(\n",
    "        index='date',\n",
    "        columns='StockSymbol',\n",
    "        values='close',\n",
    "        aggfunc='first'\n",
    "    )\n",
    "    final_df.columns.name = None  # Remove MultiIndex column name\n",
    "    final_df = final_df.reset_index()\n",
    "\n",
    "    final_df = final_df.sort_values('date')\n",
    "\n",
    "    \n",
    "    required_stocks = ['date', 'TSLA', 'AMD', 'IXIC']\n",
    "    \n",
    "    for symbol in required_stocks:\n",
    "        if symbol not in final_df.columns and symbol != 'date':\n",
    "            print(f\"Warning: Data for {symbol} is missing in API response.\")\n",
    "\n",
    "    print(\"\\n Final DataFrame Shape:\", final_df.shape)\n",
    "    print(\" Columns:\", final_df.columns.tolist())\n",
    "\n",
    "    print(\"\\n🔹 First 5 Rows:\")\n",
    "    print(final_df.head())\n",
    "\n",
    "    print(\"\\n🔹 Last 5 Rows:\")\n",
    "    print(final_df.tail())\n",
    "\n",
    "   \n",
    "    missing_data = final_df.isna().sum()\n",
    "    if missing_data.sum() > 0:\n",
    "        print(\"\\n Missing Data Per Column:\")\n",
    "        print(missing_data)\n"
   ]
  },
  {
   "cell_type": "markdown",
   "id": "bd439ce1",
   "metadata": {},
   "source": [
    "Copying the data frame to stocks data frame to maintain the original data frame. "
   ]
  },
  {
   "cell_type": "code",
   "execution_count": 12,
   "id": "63d019ba",
   "metadata": {},
   "outputs": [],
   "source": [
    "Stocks = final_df.copy()"
   ]
  },
  {
   "cell_type": "markdown",
   "id": "4a68d63b",
   "metadata": {},
   "source": [
    "Intial inspection of the data frame "
   ]
  },
  {
   "cell_type": "code",
   "execution_count": 13,
   "id": "21efc6c5",
   "metadata": {},
   "outputs": [
    {
     "data": {
      "text/html": [
       "<div>\n",
       "<style scoped>\n",
       "    .dataframe tbody tr th:only-of-type {\n",
       "        vertical-align: middle;\n",
       "    }\n",
       "\n",
       "    .dataframe tbody tr th {\n",
       "        vertical-align: top;\n",
       "    }\n",
       "\n",
       "    .dataframe thead th {\n",
       "        text-align: right;\n",
       "    }\n",
       "</style>\n",
       "<table border=\"1\" class=\"dataframe\">\n",
       "  <thead>\n",
       "    <tr style=\"text-align: right;\">\n",
       "      <th></th>\n",
       "      <th>date</th>\n",
       "      <th>AMD</th>\n",
       "      <th>INTC</th>\n",
       "      <th>IXIC</th>\n",
       "    </tr>\n",
       "  </thead>\n",
       "  <tbody>\n",
       "    <tr>\n",
       "      <th>0</th>\n",
       "      <td>2024-03-18</td>\n",
       "      <td>190.65</td>\n",
       "      <td>42.71</td>\n",
       "      <td>16103.4502</td>\n",
       "    </tr>\n",
       "    <tr>\n",
       "      <th>1</th>\n",
       "      <td>2024-03-19</td>\n",
       "      <td>181.42</td>\n",
       "      <td>42.05</td>\n",
       "      <td>16166.7900</td>\n",
       "    </tr>\n",
       "    <tr>\n",
       "      <th>2</th>\n",
       "      <td>2024-03-20</td>\n",
       "      <td>179.73</td>\n",
       "      <td>42.20</td>\n",
       "      <td>16369.4102</td>\n",
       "    </tr>\n",
       "    <tr>\n",
       "      <th>3</th>\n",
       "      <td>2024-03-21</td>\n",
       "      <td>178.68</td>\n",
       "      <td>42.42</td>\n",
       "      <td>16401.8398</td>\n",
       "    </tr>\n",
       "    <tr>\n",
       "      <th>4</th>\n",
       "      <td>2024-03-22</td>\n",
       "      <td>179.65</td>\n",
       "      <td>42.57</td>\n",
       "      <td>16428.8203</td>\n",
       "    </tr>\n",
       "    <tr>\n",
       "      <th>...</th>\n",
       "      <td>...</td>\n",
       "      <td>...</td>\n",
       "      <td>...</td>\n",
       "      <td>...</td>\n",
       "    </tr>\n",
       "    <tr>\n",
       "      <th>234</th>\n",
       "      <td>2025-02-24</td>\n",
       "      <td>108.11</td>\n",
       "      <td>24.27</td>\n",
       "      <td>19286.9297</td>\n",
       "    </tr>\n",
       "    <tr>\n",
       "      <th>235</th>\n",
       "      <td>2025-02-25</td>\n",
       "      <td>103.96</td>\n",
       "      <td>22.99</td>\n",
       "      <td>19026.3906</td>\n",
       "    </tr>\n",
       "    <tr>\n",
       "      <th>236</th>\n",
       "      <td>2025-02-26</td>\n",
       "      <td>104.74</td>\n",
       "      <td>23.52</td>\n",
       "      <td>19075.2598</td>\n",
       "    </tr>\n",
       "    <tr>\n",
       "      <th>237</th>\n",
       "      <td>2025-02-27</td>\n",
       "      <td>99.51</td>\n",
       "      <td>23.09</td>\n",
       "      <td>18544.4199</td>\n",
       "    </tr>\n",
       "    <tr>\n",
       "      <th>238</th>\n",
       "      <td>2025-02-28</td>\n",
       "      <td>99.86</td>\n",
       "      <td>23.73</td>\n",
       "      <td>18847.2793</td>\n",
       "    </tr>\n",
       "  </tbody>\n",
       "</table>\n",
       "<p>239 rows × 4 columns</p>\n",
       "</div>"
      ],
      "text/plain": [
       "          date     AMD   INTC        IXIC\n",
       "0   2024-03-18  190.65  42.71  16103.4502\n",
       "1   2024-03-19  181.42  42.05  16166.7900\n",
       "2   2024-03-20  179.73  42.20  16369.4102\n",
       "3   2024-03-21  178.68  42.42  16401.8398\n",
       "4   2024-03-22  179.65  42.57  16428.8203\n",
       "..         ...     ...    ...         ...\n",
       "234 2025-02-24  108.11  24.27  19286.9297\n",
       "235 2025-02-25  103.96  22.99  19026.3906\n",
       "236 2025-02-26  104.74  23.52  19075.2598\n",
       "237 2025-02-27   99.51  23.09  18544.4199\n",
       "238 2025-02-28   99.86  23.73  18847.2793\n",
       "\n",
       "[239 rows x 4 columns]"
      ]
     },
     "execution_count": 13,
     "metadata": {},
     "output_type": "execute_result"
    }
   ],
   "source": [
    "Stocks"
   ]
  },
  {
   "cell_type": "markdown",
   "id": "92d6fd34",
   "metadata": {},
   "source": [
    "Making the date column as the index "
   ]
  },
  {
   "cell_type": "code",
   "execution_count": 14,
   "id": "0c9eb680",
   "metadata": {},
   "outputs": [],
   "source": [
    "Stocks.set_index('date', inplace=True)"
   ]
  },
  {
   "cell_type": "code",
   "execution_count": 15,
   "id": "1378dd67",
   "metadata": {},
   "outputs": [
    {
     "data": {
      "text/html": [
       "<div>\n",
       "<style scoped>\n",
       "    .dataframe tbody tr th:only-of-type {\n",
       "        vertical-align: middle;\n",
       "    }\n",
       "\n",
       "    .dataframe tbody tr th {\n",
       "        vertical-align: top;\n",
       "    }\n",
       "\n",
       "    .dataframe thead th {\n",
       "        text-align: right;\n",
       "    }\n",
       "</style>\n",
       "<table border=\"1\" class=\"dataframe\">\n",
       "  <thead>\n",
       "    <tr style=\"text-align: right;\">\n",
       "      <th></th>\n",
       "      <th>AMD</th>\n",
       "      <th>INTC</th>\n",
       "      <th>IXIC</th>\n",
       "    </tr>\n",
       "    <tr>\n",
       "      <th>date</th>\n",
       "      <th></th>\n",
       "      <th></th>\n",
       "      <th></th>\n",
       "    </tr>\n",
       "  </thead>\n",
       "  <tbody>\n",
       "    <tr>\n",
       "      <th>2024-03-18</th>\n",
       "      <td>190.65</td>\n",
       "      <td>42.71</td>\n",
       "      <td>16103.4502</td>\n",
       "    </tr>\n",
       "    <tr>\n",
       "      <th>2024-03-19</th>\n",
       "      <td>181.42</td>\n",
       "      <td>42.05</td>\n",
       "      <td>16166.7900</td>\n",
       "    </tr>\n",
       "    <tr>\n",
       "      <th>2024-03-20</th>\n",
       "      <td>179.73</td>\n",
       "      <td>42.20</td>\n",
       "      <td>16369.4102</td>\n",
       "    </tr>\n",
       "    <tr>\n",
       "      <th>2024-03-21</th>\n",
       "      <td>178.68</td>\n",
       "      <td>42.42</td>\n",
       "      <td>16401.8398</td>\n",
       "    </tr>\n",
       "    <tr>\n",
       "      <th>2024-03-22</th>\n",
       "      <td>179.65</td>\n",
       "      <td>42.57</td>\n",
       "      <td>16428.8203</td>\n",
       "    </tr>\n",
       "    <tr>\n",
       "      <th>...</th>\n",
       "      <td>...</td>\n",
       "      <td>...</td>\n",
       "      <td>...</td>\n",
       "    </tr>\n",
       "    <tr>\n",
       "      <th>2025-02-24</th>\n",
       "      <td>108.11</td>\n",
       "      <td>24.27</td>\n",
       "      <td>19286.9297</td>\n",
       "    </tr>\n",
       "    <tr>\n",
       "      <th>2025-02-25</th>\n",
       "      <td>103.96</td>\n",
       "      <td>22.99</td>\n",
       "      <td>19026.3906</td>\n",
       "    </tr>\n",
       "    <tr>\n",
       "      <th>2025-02-26</th>\n",
       "      <td>104.74</td>\n",
       "      <td>23.52</td>\n",
       "      <td>19075.2598</td>\n",
       "    </tr>\n",
       "    <tr>\n",
       "      <th>2025-02-27</th>\n",
       "      <td>99.51</td>\n",
       "      <td>23.09</td>\n",
       "      <td>18544.4199</td>\n",
       "    </tr>\n",
       "    <tr>\n",
       "      <th>2025-02-28</th>\n",
       "      <td>99.86</td>\n",
       "      <td>23.73</td>\n",
       "      <td>18847.2793</td>\n",
       "    </tr>\n",
       "  </tbody>\n",
       "</table>\n",
       "<p>239 rows × 3 columns</p>\n",
       "</div>"
      ],
      "text/plain": [
       "               AMD   INTC        IXIC\n",
       "date                                 \n",
       "2024-03-18  190.65  42.71  16103.4502\n",
       "2024-03-19  181.42  42.05  16166.7900\n",
       "2024-03-20  179.73  42.20  16369.4102\n",
       "2024-03-21  178.68  42.42  16401.8398\n",
       "2024-03-22  179.65  42.57  16428.8203\n",
       "...            ...    ...         ...\n",
       "2025-02-24  108.11  24.27  19286.9297\n",
       "2025-02-25  103.96  22.99  19026.3906\n",
       "2025-02-26  104.74  23.52  19075.2598\n",
       "2025-02-27   99.51  23.09  18544.4199\n",
       "2025-02-28   99.86  23.73  18847.2793\n",
       "\n",
       "[239 rows x 3 columns]"
      ]
     },
     "execution_count": 15,
     "metadata": {},
     "output_type": "execute_result"
    }
   ],
   "source": [
    "Stocks"
   ]
  },
  {
   "cell_type": "code",
   "execution_count": 16,
   "id": "8ed5c1e6",
   "metadata": {},
   "outputs": [
    {
     "data": {
      "text/html": [
       "<div>\n",
       "<style scoped>\n",
       "    .dataframe tbody tr th:only-of-type {\n",
       "        vertical-align: middle;\n",
       "    }\n",
       "\n",
       "    .dataframe tbody tr th {\n",
       "        vertical-align: top;\n",
       "    }\n",
       "\n",
       "    .dataframe thead th {\n",
       "        text-align: right;\n",
       "    }\n",
       "</style>\n",
       "<table border=\"1\" class=\"dataframe\">\n",
       "  <thead>\n",
       "    <tr style=\"text-align: right;\">\n",
       "      <th></th>\n",
       "      <th>AMD</th>\n",
       "      <th>INTC</th>\n",
       "      <th>IXIC</th>\n",
       "    </tr>\n",
       "  </thead>\n",
       "  <tbody>\n",
       "    <tr>\n",
       "      <th>count</th>\n",
       "      <td>239.000000</td>\n",
       "      <td>239.000000</td>\n",
       "      <td>239.000000</td>\n",
       "    </tr>\n",
       "    <tr>\n",
       "      <th>mean</th>\n",
       "      <td>147.254623</td>\n",
       "      <td>26.454895</td>\n",
       "      <td>17986.598010</td>\n",
       "    </tr>\n",
       "    <tr>\n",
       "      <th>std</th>\n",
       "      <td>20.030022</td>\n",
       "      <td>6.595584</td>\n",
       "      <td>1288.996124</td>\n",
       "    </tr>\n",
       "    <tr>\n",
       "      <th>min</th>\n",
       "      <td>99.510000</td>\n",
       "      <td>18.890000</td>\n",
       "      <td>15282.009800</td>\n",
       "    </tr>\n",
       "    <tr>\n",
       "      <th>25%</th>\n",
       "      <td>134.310000</td>\n",
       "      <td>20.790000</td>\n",
       "      <td>16870.825200</td>\n",
       "    </tr>\n",
       "    <tr>\n",
       "      <th>50%</th>\n",
       "      <td>150.770000</td>\n",
       "      <td>23.910000</td>\n",
       "      <td>17948.320300</td>\n",
       "    </tr>\n",
       "    <tr>\n",
       "      <th>75%</th>\n",
       "      <td>160.830000</td>\n",
       "      <td>30.945000</td>\n",
       "      <td>19167.965850</td>\n",
       "    </tr>\n",
       "    <tr>\n",
       "      <th>max</th>\n",
       "      <td>190.650000</td>\n",
       "      <td>44.520000</td>\n",
       "      <td>20173.890600</td>\n",
       "    </tr>\n",
       "  </tbody>\n",
       "</table>\n",
       "</div>"
      ],
      "text/plain": [
       "              AMD        INTC          IXIC\n",
       "count  239.000000  239.000000    239.000000\n",
       "mean   147.254623   26.454895  17986.598010\n",
       "std     20.030022    6.595584   1288.996124\n",
       "min     99.510000   18.890000  15282.009800\n",
       "25%    134.310000   20.790000  16870.825200\n",
       "50%    150.770000   23.910000  17948.320300\n",
       "75%    160.830000   30.945000  19167.965850\n",
       "max    190.650000   44.520000  20173.890600"
      ]
     },
     "execution_count": 16,
     "metadata": {},
     "output_type": "execute_result"
    }
   ],
   "source": [
    "Stocks.describe()"
   ]
  },
  {
   "cell_type": "markdown",
   "id": "220d7399",
   "metadata": {},
   "source": [
    "Renaming the column, for better readability"
   ]
  },
  {
   "cell_type": "code",
   "execution_count": 17,
   "id": "6453d543",
   "metadata": {},
   "outputs": [],
   "source": [
    "Stocks = Stocks.rename(columns= {\"IXIC\": \"NASDAQ\"})"
   ]
  },
  {
   "cell_type": "code",
   "execution_count": 18,
   "id": "423dbadc",
   "metadata": {},
   "outputs": [
    {
     "data": {
      "text/html": [
       "<div>\n",
       "<style scoped>\n",
       "    .dataframe tbody tr th:only-of-type {\n",
       "        vertical-align: middle;\n",
       "    }\n",
       "\n",
       "    .dataframe tbody tr th {\n",
       "        vertical-align: top;\n",
       "    }\n",
       "\n",
       "    .dataframe thead th {\n",
       "        text-align: right;\n",
       "    }\n",
       "</style>\n",
       "<table border=\"1\" class=\"dataframe\">\n",
       "  <thead>\n",
       "    <tr style=\"text-align: right;\">\n",
       "      <th></th>\n",
       "      <th>AMD</th>\n",
       "      <th>INTC</th>\n",
       "      <th>NASDAQ</th>\n",
       "    </tr>\n",
       "    <tr>\n",
       "      <th>date</th>\n",
       "      <th></th>\n",
       "      <th></th>\n",
       "      <th></th>\n",
       "    </tr>\n",
       "  </thead>\n",
       "  <tbody>\n",
       "    <tr>\n",
       "      <th>2024-03-18</th>\n",
       "      <td>190.65</td>\n",
       "      <td>42.71</td>\n",
       "      <td>16103.4502</td>\n",
       "    </tr>\n",
       "    <tr>\n",
       "      <th>2024-03-19</th>\n",
       "      <td>181.42</td>\n",
       "      <td>42.05</td>\n",
       "      <td>16166.7900</td>\n",
       "    </tr>\n",
       "    <tr>\n",
       "      <th>2024-03-20</th>\n",
       "      <td>179.73</td>\n",
       "      <td>42.20</td>\n",
       "      <td>16369.4102</td>\n",
       "    </tr>\n",
       "    <tr>\n",
       "      <th>2024-03-21</th>\n",
       "      <td>178.68</td>\n",
       "      <td>42.42</td>\n",
       "      <td>16401.8398</td>\n",
       "    </tr>\n",
       "    <tr>\n",
       "      <th>2024-03-22</th>\n",
       "      <td>179.65</td>\n",
       "      <td>42.57</td>\n",
       "      <td>16428.8203</td>\n",
       "    </tr>\n",
       "    <tr>\n",
       "      <th>...</th>\n",
       "      <td>...</td>\n",
       "      <td>...</td>\n",
       "      <td>...</td>\n",
       "    </tr>\n",
       "    <tr>\n",
       "      <th>2025-02-24</th>\n",
       "      <td>108.11</td>\n",
       "      <td>24.27</td>\n",
       "      <td>19286.9297</td>\n",
       "    </tr>\n",
       "    <tr>\n",
       "      <th>2025-02-25</th>\n",
       "      <td>103.96</td>\n",
       "      <td>22.99</td>\n",
       "      <td>19026.3906</td>\n",
       "    </tr>\n",
       "    <tr>\n",
       "      <th>2025-02-26</th>\n",
       "      <td>104.74</td>\n",
       "      <td>23.52</td>\n",
       "      <td>19075.2598</td>\n",
       "    </tr>\n",
       "    <tr>\n",
       "      <th>2025-02-27</th>\n",
       "      <td>99.51</td>\n",
       "      <td>23.09</td>\n",
       "      <td>18544.4199</td>\n",
       "    </tr>\n",
       "    <tr>\n",
       "      <th>2025-02-28</th>\n",
       "      <td>99.86</td>\n",
       "      <td>23.73</td>\n",
       "      <td>18847.2793</td>\n",
       "    </tr>\n",
       "  </tbody>\n",
       "</table>\n",
       "<p>239 rows × 3 columns</p>\n",
       "</div>"
      ],
      "text/plain": [
       "               AMD   INTC      NASDAQ\n",
       "date                                 \n",
       "2024-03-18  190.65  42.71  16103.4502\n",
       "2024-03-19  181.42  42.05  16166.7900\n",
       "2024-03-20  179.73  42.20  16369.4102\n",
       "2024-03-21  178.68  42.42  16401.8398\n",
       "2024-03-22  179.65  42.57  16428.8203\n",
       "...            ...    ...         ...\n",
       "2025-02-24  108.11  24.27  19286.9297\n",
       "2025-02-25  103.96  22.99  19026.3906\n",
       "2025-02-26  104.74  23.52  19075.2598\n",
       "2025-02-27   99.51  23.09  18544.4199\n",
       "2025-02-28   99.86  23.73  18847.2793\n",
       "\n",
       "[239 rows x 3 columns]"
      ]
     },
     "execution_count": 18,
     "metadata": {},
     "output_type": "execute_result"
    }
   ],
   "source": [
    "Stocks"
   ]
  },
  {
   "cell_type": "code",
   "execution_count": 19,
   "id": "26a911f4",
   "metadata": {},
   "outputs": [
    {
     "name": "stdout",
     "output_type": "stream",
     "text": [
      "<class 'pandas.core.frame.DataFrame'>\n",
      "DatetimeIndex: 239 entries, 2024-03-18 to 2025-02-28\n",
      "Data columns (total 3 columns):\n",
      " #   Column  Non-Null Count  Dtype  \n",
      "---  ------  --------------  -----  \n",
      " 0   AMD     239 non-null    float64\n",
      " 1   INTC    239 non-null    float64\n",
      " 2   NASDAQ  239 non-null    float64\n",
      "dtypes: float64(3)\n",
      "memory usage: 7.5 KB\n"
     ]
    }
   ],
   "source": [
    "Stocks.info()"
   ]
  },
  {
   "cell_type": "markdown",
   "id": "ef2a0d34",
   "metadata": {},
   "source": [
    "No null values "
   ]
  },
  {
   "cell_type": "markdown",
   "id": "87b5ae74",
   "metadata": {},
   "source": [
    "Calculating the daily returns of assests "
   ]
  },
  {
   "cell_type": "code",
   "execution_count": 20,
   "id": "c67528a5",
   "metadata": {},
   "outputs": [
    {
     "data": {
      "text/html": [
       "<div>\n",
       "<style scoped>\n",
       "    .dataframe tbody tr th:only-of-type {\n",
       "        vertical-align: middle;\n",
       "    }\n",
       "\n",
       "    .dataframe tbody tr th {\n",
       "        vertical-align: top;\n",
       "    }\n",
       "\n",
       "    .dataframe thead th {\n",
       "        text-align: right;\n",
       "    }\n",
       "</style>\n",
       "<table border=\"1\" class=\"dataframe\">\n",
       "  <thead>\n",
       "    <tr style=\"text-align: right;\">\n",
       "      <th></th>\n",
       "      <th>AMD</th>\n",
       "      <th>INTC</th>\n",
       "      <th>NASDAQ</th>\n",
       "    </tr>\n",
       "  </thead>\n",
       "  <tbody>\n",
       "    <tr>\n",
       "      <th>count</th>\n",
       "      <td>238.000000</td>\n",
       "      <td>238.000000</td>\n",
       "      <td>238.000000</td>\n",
       "    </tr>\n",
       "    <tr>\n",
       "      <th>mean</th>\n",
       "      <td>-0.002310</td>\n",
       "      <td>-0.001821</td>\n",
       "      <td>0.000731</td>\n",
       "    </tr>\n",
       "    <tr>\n",
       "      <th>std</th>\n",
       "      <td>0.028243</td>\n",
       "      <td>0.035316</td>\n",
       "      <td>0.011841</td>\n",
       "    </tr>\n",
       "    <tr>\n",
       "      <th>min</th>\n",
       "      <td>-0.106165</td>\n",
       "      <td>-0.260585</td>\n",
       "      <td>-0.036391</td>\n",
       "    </tr>\n",
       "    <tr>\n",
       "      <th>25%</th>\n",
       "      <td>-0.016710</td>\n",
       "      <td>-0.018803</td>\n",
       "      <td>-0.004560</td>\n",
       "    </tr>\n",
       "    <tr>\n",
       "      <th>50%</th>\n",
       "      <td>-0.001634</td>\n",
       "      <td>-0.000871</td>\n",
       "      <td>0.001542</td>\n",
       "    </tr>\n",
       "    <tr>\n",
       "      <th>75%</th>\n",
       "      <td>0.013620</td>\n",
       "      <td>0.015033</td>\n",
       "      <td>0.008273</td>\n",
       "    </tr>\n",
       "    <tr>\n",
       "      <th>max</th>\n",
       "      <td>0.059454</td>\n",
       "      <td>0.160593</td>\n",
       "      <td>0.029519</td>\n",
       "    </tr>\n",
       "  </tbody>\n",
       "</table>\n",
       "</div>"
      ],
      "text/plain": [
       "              AMD        INTC      NASDAQ\n",
       "count  238.000000  238.000000  238.000000\n",
       "mean    -0.002310   -0.001821    0.000731\n",
       "std      0.028243    0.035316    0.011841\n",
       "min     -0.106165   -0.260585   -0.036391\n",
       "25%     -0.016710   -0.018803   -0.004560\n",
       "50%     -0.001634   -0.000871    0.001542\n",
       "75%      0.013620    0.015033    0.008273\n",
       "max      0.059454    0.160593    0.029519"
      ]
     },
     "execution_count": 20,
     "metadata": {},
     "output_type": "execute_result"
    }
   ],
   "source": [
    "Stocks.pct_change().describe()"
   ]
  },
  {
   "cell_type": "markdown",
   "id": "0a4dce97",
   "metadata": {},
   "source": [
    "<B> Most Volatile Stock: Intel <Br>\n",
    "AMD, Intel means are in negative <br>\n",
    "For risk takers and traders, Intel might be a good option since it has frequent price flucations \n"
   ]
  },
  {
   "cell_type": "markdown",
   "id": "74935440",
   "metadata": {},
   "source": [
    "<B> For Risk free Returns, I will be taking Government Backed 3 Months treasury Bills.    "
   ]
  },
  {
   "cell_type": "code",
   "execution_count": 21,
   "id": "e3753503",
   "metadata": {},
   "outputs": [],
   "source": [
    "from fredapi import Fred"
   ]
  },
  {
   "cell_type": "code",
   "execution_count": 22,
   "id": "5c52d6f1",
   "metadata": {},
   "outputs": [],
   "source": [
    "fred = Fred(api_key='c3b68b765ec3b477b389e312668abf79')"
   ]
  },
  {
   "cell_type": "code",
   "execution_count": 23,
   "id": "6fda3a9b",
   "metadata": {},
   "outputs": [
    {
     "data": {
      "text/plain": [
       "'Market Yield on U.S. Treasury Securities at 3-Month Constant Maturity, Quoted on an Investment Basis'"
      ]
     },
     "execution_count": 23,
     "metadata": {},
     "output_type": "execute_result"
    }
   ],
   "source": [
    "fred.search('risk free').loc['DGS3MO'].loc['title']"
   ]
  },
  {
   "cell_type": "code",
   "execution_count": 24,
   "id": "852269e1",
   "metadata": {},
   "outputs": [],
   "source": [
    "risk_free = fred.get_series('DGS3MO')"
   ]
  },
  {
   "cell_type": "markdown",
   "id": "74deb728",
   "metadata": {},
   "source": [
    "since the treasure bills are annualized yields, we are dividing by 252 (trading days in a year) to get daily risk free returns "
   ]
  },
  {
   "cell_type": "code",
   "execution_count": 25,
   "id": "2dd2d6f9",
   "metadata": {},
   "outputs": [],
   "source": [
    "rf = (risk_free/100)/252"
   ]
  },
  {
   "cell_type": "markdown",
   "id": "71fd54b7",
   "metadata": {},
   "source": [
    "filtering the data for matching the stocks' data \n"
   ]
  },
  {
   "cell_type": "code",
   "execution_count": 26,
   "id": "7400004d",
   "metadata": {},
   "outputs": [],
   "source": [
    "rf = rf.loc['2024-03-01':'2025-03-01']"
   ]
  },
  {
   "cell_type": "markdown",
   "id": "65c54933",
   "metadata": {},
   "source": [
    "Intial inspection of risk free assests "
   ]
  },
  {
   "cell_type": "code",
   "execution_count": 27,
   "id": "3b9067e1",
   "metadata": {},
   "outputs": [
    {
     "data": {
      "text/plain": [
       "2024-03-01    0.000215\n",
       "2024-03-04    0.000217\n",
       "2024-03-05    0.000217\n",
       "2024-03-06    0.000217\n",
       "2024-03-07    0.000217\n",
       "                ...   \n",
       "2025-02-24    0.000171\n",
       "2025-02-25    0.000171\n",
       "2025-02-26    0.000171\n",
       "2025-02-27    0.000171\n",
       "2025-02-28    0.000171\n",
       "Length: 261, dtype: float64"
      ]
     },
     "execution_count": 27,
     "metadata": {},
     "output_type": "execute_result"
    }
   ],
   "source": [
    "rf"
   ]
  },
  {
   "cell_type": "markdown",
   "id": "6f36a501",
   "metadata": {},
   "source": [
    "<B> <h2> Correlation Matrix: "
   ]
  },
  {
   "cell_type": "code",
   "execution_count": 28,
   "id": "b2a85f6a",
   "metadata": {},
   "outputs": [
    {
     "data": {
      "image/png": "[encoded data removed]",
      "text/plain": [
       "<Figure size 800x600 with 2 Axes>"
      ]
     },
     "metadata": {},
     "output_type": "display_data"
    }
   ],
   "source": [
    "plt.figure(figsize=(8, 6))\n",
    "sns.heatmap(Stocks.corr(),annot=True)\n",
    "plt.show()"
   ]
  },
  {
   "cell_type": "markdown",
   "id": "1af11157",
   "metadata": {},
   "source": [
    "<B> Intel, AMD has high correlation because both the stocks belongs to same sector (Chip Manufacturing) so, they are highly correlated. Even the during the Quaretly results and Management Commnetary and estimates, one stock can affect the other due to same expectations. Whereas, Nasdaq is negatively correlated with Intel and AMD.   "
   ]
  },
  {
   "cell_type": "code",
   "execution_count": 29,
   "id": "7b3af914",
   "metadata": {},
   "outputs": [
    {
     "data": {
      "image/png": "[encoded data removed]",
      "text/plain": [
       "<Figure size 1000x600 with 1 Axes>"
      ]
     },
     "metadata": {},
     "output_type": "display_data"
    },
    {
     "data": {
      "image/png": "[encoded data removed]",
      "text/plain": [
       "<Figure size 1000x600 with 1 Axes>"
      ]
     },
     "metadata": {},
     "output_type": "display_data"
    },
    {
     "data": {
      "image/png": "[encoded data removed]",
      "text/plain": [
       "<Figure size 1000x600 with 1 Axes>"
      ]
     },
     "metadata": {},
     "output_type": "display_data"
    }
   ],
   "source": [
    "for i, stock in enumerate(Stocks.columns, start=1):\n",
    "    plt.figure(figsize=(10,6))\n",
    "    plt.subplot(4,1,i)\n",
    "    plt.plot(Stocks[stock])\n",
    "    plt.title(f'{stock}')\n",
    "    plt.show()"
   ]
  },
  {
   "cell_type": "markdown",
   "id": "d9949884",
   "metadata": {},
   "source": [
    "<B> Both AMD, Intel are in Negative trends. On the other hand, NASDAQ in upward trend"
   ]
  },
  {
   "cell_type": "markdown",
   "id": "26640248",
   "metadata": {},
   "source": [
    "<b> <h3> CAPM Analysis "
   ]
  },
  {
   "cell_type": "code",
   "execution_count": 30,
   "id": "bf875341",
   "metadata": {},
   "outputs": [],
   "source": [
    "returns = Stocks.pct_change()"
   ]
  },
  {
   "cell_type": "code",
   "execution_count": 31,
   "id": "e02ae13b",
   "metadata": {},
   "outputs": [
    {
     "data": {
      "text/html": [
       "<div>\n",
       "<style scoped>\n",
       "    .dataframe tbody tr th:only-of-type {\n",
       "        vertical-align: middle;\n",
       "    }\n",
       "\n",
       "    .dataframe tbody tr th {\n",
       "        vertical-align: top;\n",
       "    }\n",
       "\n",
       "    .dataframe thead th {\n",
       "        text-align: right;\n",
       "    }\n",
       "</style>\n",
       "<table border=\"1\" class=\"dataframe\">\n",
       "  <thead>\n",
       "    <tr style=\"text-align: right;\">\n",
       "      <th></th>\n",
       "      <th>AMD</th>\n",
       "      <th>INTC</th>\n",
       "      <th>NASDAQ</th>\n",
       "    </tr>\n",
       "    <tr>\n",
       "      <th>date</th>\n",
       "      <th></th>\n",
       "      <th></th>\n",
       "      <th></th>\n",
       "    </tr>\n",
       "  </thead>\n",
       "  <tbody>\n",
       "    <tr>\n",
       "      <th>2024-03-18</th>\n",
       "      <td>NaN</td>\n",
       "      <td>NaN</td>\n",
       "      <td>NaN</td>\n",
       "    </tr>\n",
       "    <tr>\n",
       "      <th>2024-03-19</th>\n",
       "      <td>-0.048413</td>\n",
       "      <td>-0.015453</td>\n",
       "      <td>0.003933</td>\n",
       "    </tr>\n",
       "    <tr>\n",
       "      <th>2024-03-20</th>\n",
       "      <td>-0.009315</td>\n",
       "      <td>0.003567</td>\n",
       "      <td>0.012533</td>\n",
       "    </tr>\n",
       "    <tr>\n",
       "      <th>2024-03-21</th>\n",
       "      <td>-0.005842</td>\n",
       "      <td>0.005213</td>\n",
       "      <td>0.001981</td>\n",
       "    </tr>\n",
       "    <tr>\n",
       "      <th>2024-03-22</th>\n",
       "      <td>0.005429</td>\n",
       "      <td>0.003536</td>\n",
       "      <td>0.001645</td>\n",
       "    </tr>\n",
       "    <tr>\n",
       "      <th>...</th>\n",
       "      <td>...</td>\n",
       "      <td>...</td>\n",
       "      <td>...</td>\n",
       "    </tr>\n",
       "    <tr>\n",
       "      <th>2025-02-24</th>\n",
       "      <td>-0.024630</td>\n",
       "      <td>-0.024125</td>\n",
       "      <td>-0.012143</td>\n",
       "    </tr>\n",
       "    <tr>\n",
       "      <th>2025-02-25</th>\n",
       "      <td>-0.038387</td>\n",
       "      <td>-0.052740</td>\n",
       "      <td>-0.013509</td>\n",
       "    </tr>\n",
       "    <tr>\n",
       "      <th>2025-02-26</th>\n",
       "      <td>0.007503</td>\n",
       "      <td>0.023054</td>\n",
       "      <td>0.002568</td>\n",
       "    </tr>\n",
       "    <tr>\n",
       "      <th>2025-02-27</th>\n",
       "      <td>-0.049933</td>\n",
       "      <td>-0.018282</td>\n",
       "      <td>-0.027829</td>\n",
       "    </tr>\n",
       "    <tr>\n",
       "      <th>2025-02-28</th>\n",
       "      <td>0.003517</td>\n",
       "      <td>0.027718</td>\n",
       "      <td>0.016332</td>\n",
       "    </tr>\n",
       "  </tbody>\n",
       "</table>\n",
       "<p>239 rows × 3 columns</p>\n",
       "</div>"
      ],
      "text/plain": [
       "                 AMD      INTC    NASDAQ\n",
       "date                                    \n",
       "2024-03-18       NaN       NaN       NaN\n",
       "2024-03-19 -0.048413 -0.015453  0.003933\n",
       "2024-03-20 -0.009315  0.003567  0.012533\n",
       "2024-03-21 -0.005842  0.005213  0.001981\n",
       "2024-03-22  0.005429  0.003536  0.001645\n",
       "...              ...       ...       ...\n",
       "2025-02-24 -0.024630 -0.024125 -0.012143\n",
       "2025-02-25 -0.038387 -0.052740 -0.013509\n",
       "2025-02-26  0.007503  0.023054  0.002568\n",
       "2025-02-27 -0.049933 -0.018282 -0.027829\n",
       "2025-02-28  0.003517  0.027718  0.016332\n",
       "\n",
       "[239 rows x 3 columns]"
      ]
     },
     "execution_count": 31,
     "metadata": {},
     "output_type": "execute_result"
    }
   ],
   "source": [
    "returns"
   ]
  },
  {
   "cell_type": "markdown",
   "id": "31337ef1",
   "metadata": {},
   "source": [
    "Dropping the null values "
   ]
  },
  {
   "cell_type": "code",
   "execution_count": 32,
   "id": "26298ddf",
   "metadata": {},
   "outputs": [],
   "source": [
    "returns.dropna(inplace= True)"
   ]
  },
  {
   "cell_type": "code",
   "execution_count": 33,
   "id": "d370f404",
   "metadata": {},
   "outputs": [
    {
     "data": {
      "text/html": [
       "<div>\n",
       "<style scoped>\n",
       "    .dataframe tbody tr th:only-of-type {\n",
       "        vertical-align: middle;\n",
       "    }\n",
       "\n",
       "    .dataframe tbody tr th {\n",
       "        vertical-align: top;\n",
       "    }\n",
       "\n",
       "    .dataframe thead th {\n",
       "        text-align: right;\n",
       "    }\n",
       "</style>\n",
       "<table border=\"1\" class=\"dataframe\">\n",
       "  <thead>\n",
       "    <tr style=\"text-align: right;\">\n",
       "      <th></th>\n",
       "      <th>AMD</th>\n",
       "      <th>INTC</th>\n",
       "      <th>NASDAQ</th>\n",
       "    </tr>\n",
       "    <tr>\n",
       "      <th>date</th>\n",
       "      <th></th>\n",
       "      <th></th>\n",
       "      <th></th>\n",
       "    </tr>\n",
       "  </thead>\n",
       "  <tbody>\n",
       "    <tr>\n",
       "      <th>2024-03-19</th>\n",
       "      <td>-0.048413</td>\n",
       "      <td>-0.015453</td>\n",
       "      <td>0.003933</td>\n",
       "    </tr>\n",
       "    <tr>\n",
       "      <th>2024-03-20</th>\n",
       "      <td>-0.009315</td>\n",
       "      <td>0.003567</td>\n",
       "      <td>0.012533</td>\n",
       "    </tr>\n",
       "    <tr>\n",
       "      <th>2024-03-21</th>\n",
       "      <td>-0.005842</td>\n",
       "      <td>0.005213</td>\n",
       "      <td>0.001981</td>\n",
       "    </tr>\n",
       "    <tr>\n",
       "      <th>2024-03-22</th>\n",
       "      <td>0.005429</td>\n",
       "      <td>0.003536</td>\n",
       "      <td>0.001645</td>\n",
       "    </tr>\n",
       "    <tr>\n",
       "      <th>2024-03-25</th>\n",
       "      <td>-0.005678</td>\n",
       "      <td>-0.017383</td>\n",
       "      <td>-0.002699</td>\n",
       "    </tr>\n",
       "    <tr>\n",
       "      <th>...</th>\n",
       "      <td>...</td>\n",
       "      <td>...</td>\n",
       "      <td>...</td>\n",
       "    </tr>\n",
       "    <tr>\n",
       "      <th>2025-02-24</th>\n",
       "      <td>-0.024630</td>\n",
       "      <td>-0.024125</td>\n",
       "      <td>-0.012143</td>\n",
       "    </tr>\n",
       "    <tr>\n",
       "      <th>2025-02-25</th>\n",
       "      <td>-0.038387</td>\n",
       "      <td>-0.052740</td>\n",
       "      <td>-0.013509</td>\n",
       "    </tr>\n",
       "    <tr>\n",
       "      <th>2025-02-26</th>\n",
       "      <td>0.007503</td>\n",
       "      <td>0.023054</td>\n",
       "      <td>0.002568</td>\n",
       "    </tr>\n",
       "    <tr>\n",
       "      <th>2025-02-27</th>\n",
       "      <td>-0.049933</td>\n",
       "      <td>-0.018282</td>\n",
       "      <td>-0.027829</td>\n",
       "    </tr>\n",
       "    <tr>\n",
       "      <th>2025-02-28</th>\n",
       "      <td>0.003517</td>\n",
       "      <td>0.027718</td>\n",
       "      <td>0.016332</td>\n",
       "    </tr>\n",
       "  </tbody>\n",
       "</table>\n",
       "<p>238 rows × 3 columns</p>\n",
       "</div>"
      ],
      "text/plain": [
       "                 AMD      INTC    NASDAQ\n",
       "date                                    \n",
       "2024-03-19 -0.048413 -0.015453  0.003933\n",
       "2024-03-20 -0.009315  0.003567  0.012533\n",
       "2024-03-21 -0.005842  0.005213  0.001981\n",
       "2024-03-22  0.005429  0.003536  0.001645\n",
       "2024-03-25 -0.005678 -0.017383 -0.002699\n",
       "...              ...       ...       ...\n",
       "2025-02-24 -0.024630 -0.024125 -0.012143\n",
       "2025-02-25 -0.038387 -0.052740 -0.013509\n",
       "2025-02-26  0.007503  0.023054  0.002568\n",
       "2025-02-27 -0.049933 -0.018282 -0.027829\n",
       "2025-02-28  0.003517  0.027718  0.016332\n",
       "\n",
       "[238 rows x 3 columns]"
      ]
     },
     "execution_count": 33,
     "metadata": {},
     "output_type": "execute_result"
    }
   ],
   "source": [
    "returns"
   ]
  },
  {
   "cell_type": "code",
   "execution_count": 34,
   "id": "58c09357",
   "metadata": {},
   "outputs": [],
   "source": [
    "rf = rf.to_frame()"
   ]
  },
  {
   "cell_type": "markdown",
   "id": "968b1f56",
   "metadata": {},
   "source": [
    "The value is higher than 252 days. There would be yield reporting on non-trading days "
   ]
  },
  {
   "cell_type": "code",
   "execution_count": 35,
   "id": "4bb28131",
   "metadata": {},
   "outputs": [
    {
     "data": {
      "text/plain": [
       "(261, 1)"
      ]
     },
     "execution_count": 35,
     "metadata": {},
     "output_type": "execute_result"
    }
   ],
   "source": [
    "rf.shape"
   ]
  },
  {
   "cell_type": "code",
   "execution_count": 36,
   "id": "aebd5f76",
   "metadata": {},
   "outputs": [],
   "source": [
    "rf.columns = [\"Interest Rates\"]"
   ]
  },
  {
   "cell_type": "code",
   "execution_count": 37,
   "id": "4dc57671",
   "metadata": {},
   "outputs": [
    {
     "data": {
      "text/html": [
       "<div>\n",
       "<style scoped>\n",
       "    .dataframe tbody tr th:only-of-type {\n",
       "        vertical-align: middle;\n",
       "    }\n",
       "\n",
       "    .dataframe tbody tr th {\n",
       "        vertical-align: top;\n",
       "    }\n",
       "\n",
       "    .dataframe thead th {\n",
       "        text-align: right;\n",
       "    }\n",
       "</style>\n",
       "<table border=\"1\" class=\"dataframe\">\n",
       "  <thead>\n",
       "    <tr style=\"text-align: right;\">\n",
       "      <th></th>\n",
       "      <th>Interest Rates</th>\n",
       "    </tr>\n",
       "  </thead>\n",
       "  <tbody>\n",
       "    <tr>\n",
       "      <th>2024-03-01</th>\n",
       "      <td>0.000215</td>\n",
       "    </tr>\n",
       "    <tr>\n",
       "      <th>2024-03-04</th>\n",
       "      <td>0.000217</td>\n",
       "    </tr>\n",
       "    <tr>\n",
       "      <th>2024-03-05</th>\n",
       "      <td>0.000217</td>\n",
       "    </tr>\n",
       "    <tr>\n",
       "      <th>2024-03-06</th>\n",
       "      <td>0.000217</td>\n",
       "    </tr>\n",
       "    <tr>\n",
       "      <th>2024-03-07</th>\n",
       "      <td>0.000217</td>\n",
       "    </tr>\n",
       "    <tr>\n",
       "      <th>...</th>\n",
       "      <td>...</td>\n",
       "    </tr>\n",
       "    <tr>\n",
       "      <th>2025-02-24</th>\n",
       "      <td>0.000171</td>\n",
       "    </tr>\n",
       "    <tr>\n",
       "      <th>2025-02-25</th>\n",
       "      <td>0.000171</td>\n",
       "    </tr>\n",
       "    <tr>\n",
       "      <th>2025-02-26</th>\n",
       "      <td>0.000171</td>\n",
       "    </tr>\n",
       "    <tr>\n",
       "      <th>2025-02-27</th>\n",
       "      <td>0.000171</td>\n",
       "    </tr>\n",
       "    <tr>\n",
       "      <th>2025-02-28</th>\n",
       "      <td>0.000171</td>\n",
       "    </tr>\n",
       "  </tbody>\n",
       "</table>\n",
       "<p>261 rows × 1 columns</p>\n",
       "</div>"
      ],
      "text/plain": [
       "            Interest Rates\n",
       "2024-03-01        0.000215\n",
       "2024-03-04        0.000217\n",
       "2024-03-05        0.000217\n",
       "2024-03-06        0.000217\n",
       "2024-03-07        0.000217\n",
       "...                    ...\n",
       "2025-02-24        0.000171\n",
       "2025-02-25        0.000171\n",
       "2025-02-26        0.000171\n",
       "2025-02-27        0.000171\n",
       "2025-02-28        0.000171\n",
       "\n",
       "[261 rows x 1 columns]"
      ]
     },
     "execution_count": 37,
     "metadata": {},
     "output_type": "execute_result"
    }
   ],
   "source": [
    "rf"
   ]
  },
  {
   "cell_type": "markdown",
   "id": "14758a80",
   "metadata": {},
   "source": [
    "Filtering the rows based on stocks' trsding days "
   ]
  },
  {
   "cell_type": "code",
   "execution_count": 38,
   "id": "976bac1e",
   "metadata": {},
   "outputs": [],
   "source": [
    "rf_filtered = rf[rf.index.isin(returns.index)]"
   ]
  },
  {
   "cell_type": "code",
   "execution_count": 39,
   "id": "86d9190f",
   "metadata": {},
   "outputs": [
    {
     "data": {
      "text/html": [
       "<div>\n",
       "<style scoped>\n",
       "    .dataframe tbody tr th:only-of-type {\n",
       "        vertical-align: middle;\n",
       "    }\n",
       "\n",
       "    .dataframe tbody tr th {\n",
       "        vertical-align: top;\n",
       "    }\n",
       "\n",
       "    .dataframe thead th {\n",
       "        text-align: right;\n",
       "    }\n",
       "</style>\n",
       "<table border=\"1\" class=\"dataframe\">\n",
       "  <thead>\n",
       "    <tr style=\"text-align: right;\">\n",
       "      <th></th>\n",
       "      <th>Interest Rates</th>\n",
       "    </tr>\n",
       "  </thead>\n",
       "  <tbody>\n",
       "    <tr>\n",
       "      <th>2024-03-19</th>\n",
       "      <td>0.000217</td>\n",
       "    </tr>\n",
       "    <tr>\n",
       "      <th>2024-03-20</th>\n",
       "      <td>0.000217</td>\n",
       "    </tr>\n",
       "    <tr>\n",
       "      <th>2024-03-21</th>\n",
       "      <td>0.000217</td>\n",
       "    </tr>\n",
       "    <tr>\n",
       "      <th>2024-03-22</th>\n",
       "      <td>0.000217</td>\n",
       "    </tr>\n",
       "    <tr>\n",
       "      <th>2024-03-25</th>\n",
       "      <td>0.000217</td>\n",
       "    </tr>\n",
       "    <tr>\n",
       "      <th>...</th>\n",
       "      <td>...</td>\n",
       "    </tr>\n",
       "    <tr>\n",
       "      <th>2025-02-24</th>\n",
       "      <td>0.000171</td>\n",
       "    </tr>\n",
       "    <tr>\n",
       "      <th>2025-02-25</th>\n",
       "      <td>0.000171</td>\n",
       "    </tr>\n",
       "    <tr>\n",
       "      <th>2025-02-26</th>\n",
       "      <td>0.000171</td>\n",
       "    </tr>\n",
       "    <tr>\n",
       "      <th>2025-02-27</th>\n",
       "      <td>0.000171</td>\n",
       "    </tr>\n",
       "    <tr>\n",
       "      <th>2025-02-28</th>\n",
       "      <td>0.000171</td>\n",
       "    </tr>\n",
       "  </tbody>\n",
       "</table>\n",
       "<p>238 rows × 1 columns</p>\n",
       "</div>"
      ],
      "text/plain": [
       "            Interest Rates\n",
       "2024-03-19        0.000217\n",
       "2024-03-20        0.000217\n",
       "2024-03-21        0.000217\n",
       "2024-03-22        0.000217\n",
       "2024-03-25        0.000217\n",
       "...                    ...\n",
       "2025-02-24        0.000171\n",
       "2025-02-25        0.000171\n",
       "2025-02-26        0.000171\n",
       "2025-02-27        0.000171\n",
       "2025-02-28        0.000171\n",
       "\n",
       "[238 rows x 1 columns]"
      ]
     },
     "execution_count": 39,
     "metadata": {},
     "output_type": "execute_result"
    }
   ],
   "source": [
    "rf_filtered"
   ]
  },
  {
   "cell_type": "markdown",
   "id": "d0d3e40a",
   "metadata": {},
   "source": [
    "concating the both data frames "
   ]
  },
  {
   "cell_type": "code",
   "execution_count": 40,
   "id": "ee5fea4d",
   "metadata": {},
   "outputs": [],
   "source": [
    "returns = pd.concat([returns,rf_filtered],axis=1)"
   ]
  },
  {
   "cell_type": "code",
   "execution_count": 41,
   "id": "84d28f84",
   "metadata": {},
   "outputs": [
    {
     "data": {
      "text/html": [
       "<div>\n",
       "<style scoped>\n",
       "    .dataframe tbody tr th:only-of-type {\n",
       "        vertical-align: middle;\n",
       "    }\n",
       "\n",
       "    .dataframe tbody tr th {\n",
       "        vertical-align: top;\n",
       "    }\n",
       "\n",
       "    .dataframe thead th {\n",
       "        text-align: right;\n",
       "    }\n",
       "</style>\n",
       "<table border=\"1\" class=\"dataframe\">\n",
       "  <thead>\n",
       "    <tr style=\"text-align: right;\">\n",
       "      <th></th>\n",
       "      <th>AMD</th>\n",
       "      <th>INTC</th>\n",
       "      <th>NASDAQ</th>\n",
       "      <th>Interest Rates</th>\n",
       "    </tr>\n",
       "  </thead>\n",
       "  <tbody>\n",
       "    <tr>\n",
       "      <th>2024-03-19</th>\n",
       "      <td>-0.048413</td>\n",
       "      <td>-0.015453</td>\n",
       "      <td>0.003933</td>\n",
       "      <td>0.000217</td>\n",
       "    </tr>\n",
       "    <tr>\n",
       "      <th>2024-03-20</th>\n",
       "      <td>-0.009315</td>\n",
       "      <td>0.003567</td>\n",
       "      <td>0.012533</td>\n",
       "      <td>0.000217</td>\n",
       "    </tr>\n",
       "    <tr>\n",
       "      <th>2024-03-21</th>\n",
       "      <td>-0.005842</td>\n",
       "      <td>0.005213</td>\n",
       "      <td>0.001981</td>\n",
       "      <td>0.000217</td>\n",
       "    </tr>\n",
       "    <tr>\n",
       "      <th>2024-03-22</th>\n",
       "      <td>0.005429</td>\n",
       "      <td>0.003536</td>\n",
       "      <td>0.001645</td>\n",
       "      <td>0.000217</td>\n",
       "    </tr>\n",
       "    <tr>\n",
       "      <th>2024-03-25</th>\n",
       "      <td>-0.005678</td>\n",
       "      <td>-0.017383</td>\n",
       "      <td>-0.002699</td>\n",
       "      <td>0.000217</td>\n",
       "    </tr>\n",
       "    <tr>\n",
       "      <th>...</th>\n",
       "      <td>...</td>\n",
       "      <td>...</td>\n",
       "      <td>...</td>\n",
       "      <td>...</td>\n",
       "    </tr>\n",
       "    <tr>\n",
       "      <th>2025-02-24</th>\n",
       "      <td>-0.024630</td>\n",
       "      <td>-0.024125</td>\n",
       "      <td>-0.012143</td>\n",
       "      <td>0.000171</td>\n",
       "    </tr>\n",
       "    <tr>\n",
       "      <th>2025-02-25</th>\n",
       "      <td>-0.038387</td>\n",
       "      <td>-0.052740</td>\n",
       "      <td>-0.013509</td>\n",
       "      <td>0.000171</td>\n",
       "    </tr>\n",
       "    <tr>\n",
       "      <th>2025-02-26</th>\n",
       "      <td>0.007503</td>\n",
       "      <td>0.023054</td>\n",
       "      <td>0.002568</td>\n",
       "      <td>0.000171</td>\n",
       "    </tr>\n",
       "    <tr>\n",
       "      <th>2025-02-27</th>\n",
       "      <td>-0.049933</td>\n",
       "      <td>-0.018282</td>\n",
       "      <td>-0.027829</td>\n",
       "      <td>0.000171</td>\n",
       "    </tr>\n",
       "    <tr>\n",
       "      <th>2025-02-28</th>\n",
       "      <td>0.003517</td>\n",
       "      <td>0.027718</td>\n",
       "      <td>0.016332</td>\n",
       "      <td>0.000171</td>\n",
       "    </tr>\n",
       "  </tbody>\n",
       "</table>\n",
       "<p>238 rows × 4 columns</p>\n",
       "</div>"
      ],
      "text/plain": [
       "                 AMD      INTC    NASDAQ  Interest Rates\n",
       "2024-03-19 -0.048413 -0.015453  0.003933        0.000217\n",
       "2024-03-20 -0.009315  0.003567  0.012533        0.000217\n",
       "2024-03-21 -0.005842  0.005213  0.001981        0.000217\n",
       "2024-03-22  0.005429  0.003536  0.001645        0.000217\n",
       "2024-03-25 -0.005678 -0.017383 -0.002699        0.000217\n",
       "...              ...       ...       ...             ...\n",
       "2025-02-24 -0.024630 -0.024125 -0.012143        0.000171\n",
       "2025-02-25 -0.038387 -0.052740 -0.013509        0.000171\n",
       "2025-02-26  0.007503  0.023054  0.002568        0.000171\n",
       "2025-02-27 -0.049933 -0.018282 -0.027829        0.000171\n",
       "2025-02-28  0.003517  0.027718  0.016332        0.000171\n",
       "\n",
       "[238 rows x 4 columns]"
      ]
     },
     "execution_count": 41,
     "metadata": {},
     "output_type": "execute_result"
    }
   ],
   "source": [
    "returns"
   ]
  },
  {
   "cell_type": "markdown",
   "id": "0e126075",
   "metadata": {},
   "source": [
    "Calculating the excess returns compared the risk free assest "
   ]
  },
  {
   "cell_type": "code",
   "execution_count": 42,
   "id": "7b5c1afb",
   "metadata": {},
   "outputs": [],
   "source": [
    "returns['Excess_NASDAQ'] = returns['NASDAQ'] - returns['Interest Rates']\n",
    "returns['Excess_AMD'] = returns['AMD'] - returns['Interest Rates']\n",
    "returns['Excess_INTC'] = returns['INTC'] - returns['Interest Rates']"
   ]
  },
  {
   "cell_type": "code",
   "execution_count": 43,
   "id": "b0e5e276",
   "metadata": {},
   "outputs": [],
   "source": [
    "returns.dropna(inplace=True)"
   ]
  },
  {
   "cell_type": "code",
   "execution_count": 44,
   "id": "61e2c45c",
   "metadata": {},
   "outputs": [
    {
     "data": {
      "text/html": [
       "<div>\n",
       "<style scoped>\n",
       "    .dataframe tbody tr th:only-of-type {\n",
       "        vertical-align: middle;\n",
       "    }\n",
       "\n",
       "    .dataframe tbody tr th {\n",
       "        vertical-align: top;\n",
       "    }\n",
       "\n",
       "    .dataframe thead th {\n",
       "        text-align: right;\n",
       "    }\n",
       "</style>\n",
       "<table border=\"1\" class=\"dataframe\">\n",
       "  <thead>\n",
       "    <tr style=\"text-align: right;\">\n",
       "      <th></th>\n",
       "      <th>AMD</th>\n",
       "      <th>INTC</th>\n",
       "      <th>NASDAQ</th>\n",
       "      <th>Interest Rates</th>\n",
       "      <th>Excess_NASDAQ</th>\n",
       "      <th>Excess_AMD</th>\n",
       "      <th>Excess_INTC</th>\n",
       "    </tr>\n",
       "  </thead>\n",
       "  <tbody>\n",
       "    <tr>\n",
       "      <th>2024-03-19</th>\n",
       "      <td>-0.048413</td>\n",
       "      <td>-0.015453</td>\n",
       "      <td>0.003933</td>\n",
       "      <td>0.000217</td>\n",
       "      <td>0.003716</td>\n",
       "      <td>-0.048631</td>\n",
       "      <td>-0.015671</td>\n",
       "    </tr>\n",
       "    <tr>\n",
       "      <th>2024-03-20</th>\n",
       "      <td>-0.009315</td>\n",
       "      <td>0.003567</td>\n",
       "      <td>0.012533</td>\n",
       "      <td>0.000217</td>\n",
       "      <td>0.012316</td>\n",
       "      <td>-0.009532</td>\n",
       "      <td>0.003350</td>\n",
       "    </tr>\n",
       "    <tr>\n",
       "      <th>2024-03-21</th>\n",
       "      <td>-0.005842</td>\n",
       "      <td>0.005213</td>\n",
       "      <td>0.001981</td>\n",
       "      <td>0.000217</td>\n",
       "      <td>0.001764</td>\n",
       "      <td>-0.006060</td>\n",
       "      <td>0.004996</td>\n",
       "    </tr>\n",
       "    <tr>\n",
       "      <th>2024-03-22</th>\n",
       "      <td>0.005429</td>\n",
       "      <td>0.003536</td>\n",
       "      <td>0.001645</td>\n",
       "      <td>0.000217</td>\n",
       "      <td>0.001428</td>\n",
       "      <td>0.005212</td>\n",
       "      <td>0.003319</td>\n",
       "    </tr>\n",
       "    <tr>\n",
       "      <th>2024-03-25</th>\n",
       "      <td>-0.005678</td>\n",
       "      <td>-0.017383</td>\n",
       "      <td>-0.002699</td>\n",
       "      <td>0.000217</td>\n",
       "      <td>-0.002916</td>\n",
       "      <td>-0.005894</td>\n",
       "      <td>-0.017600</td>\n",
       "    </tr>\n",
       "    <tr>\n",
       "      <th>...</th>\n",
       "      <td>...</td>\n",
       "      <td>...</td>\n",
       "      <td>...</td>\n",
       "      <td>...</td>\n",
       "      <td>...</td>\n",
       "      <td>...</td>\n",
       "      <td>...</td>\n",
       "    </tr>\n",
       "    <tr>\n",
       "      <th>2025-02-24</th>\n",
       "      <td>-0.024630</td>\n",
       "      <td>-0.024125</td>\n",
       "      <td>-0.012143</td>\n",
       "      <td>0.000171</td>\n",
       "      <td>-0.012314</td>\n",
       "      <td>-0.024801</td>\n",
       "      <td>-0.024296</td>\n",
       "    </tr>\n",
       "    <tr>\n",
       "      <th>2025-02-25</th>\n",
       "      <td>-0.038387</td>\n",
       "      <td>-0.052740</td>\n",
       "      <td>-0.013509</td>\n",
       "      <td>0.000171</td>\n",
       "      <td>-0.013679</td>\n",
       "      <td>-0.038557</td>\n",
       "      <td>-0.052911</td>\n",
       "    </tr>\n",
       "    <tr>\n",
       "      <th>2025-02-26</th>\n",
       "      <td>0.007503</td>\n",
       "      <td>0.023054</td>\n",
       "      <td>0.002568</td>\n",
       "      <td>0.000171</td>\n",
       "      <td>0.002397</td>\n",
       "      <td>0.007332</td>\n",
       "      <td>0.022882</td>\n",
       "    </tr>\n",
       "    <tr>\n",
       "      <th>2025-02-27</th>\n",
       "      <td>-0.049933</td>\n",
       "      <td>-0.018282</td>\n",
       "      <td>-0.027829</td>\n",
       "      <td>0.000171</td>\n",
       "      <td>-0.028000</td>\n",
       "      <td>-0.050105</td>\n",
       "      <td>-0.018454</td>\n",
       "    </tr>\n",
       "    <tr>\n",
       "      <th>2025-02-28</th>\n",
       "      <td>0.003517</td>\n",
       "      <td>0.027718</td>\n",
       "      <td>0.016332</td>\n",
       "      <td>0.000171</td>\n",
       "      <td>0.016160</td>\n",
       "      <td>0.003346</td>\n",
       "      <td>0.027546</td>\n",
       "    </tr>\n",
       "  </tbody>\n",
       "</table>\n",
       "<p>236 rows × 7 columns</p>\n",
       "</div>"
      ],
      "text/plain": [
       "                 AMD      INTC    NASDAQ  Interest Rates  Excess_NASDAQ  \\\n",
       "2024-03-19 -0.048413 -0.015453  0.003933        0.000217       0.003716   \n",
       "2024-03-20 -0.009315  0.003567  0.012533        0.000217       0.012316   \n",
       "2024-03-21 -0.005842  0.005213  0.001981        0.000217       0.001764   \n",
       "2024-03-22  0.005429  0.003536  0.001645        0.000217       0.001428   \n",
       "2024-03-25 -0.005678 -0.017383 -0.002699        0.000217      -0.002916   \n",
       "...              ...       ...       ...             ...            ...   \n",
       "2025-02-24 -0.024630 -0.024125 -0.012143        0.000171      -0.012314   \n",
       "2025-02-25 -0.038387 -0.052740 -0.013509        0.000171      -0.013679   \n",
       "2025-02-26  0.007503  0.023054  0.002568        0.000171       0.002397   \n",
       "2025-02-27 -0.049933 -0.018282 -0.027829        0.000171      -0.028000   \n",
       "2025-02-28  0.003517  0.027718  0.016332        0.000171       0.016160   \n",
       "\n",
       "            Excess_AMD  Excess_INTC  \n",
       "2024-03-19   -0.048631    -0.015671  \n",
       "2024-03-20   -0.009532     0.003350  \n",
       "2024-03-21   -0.006060     0.004996  \n",
       "2024-03-22    0.005212     0.003319  \n",
       "2024-03-25   -0.005894    -0.017600  \n",
       "...                ...          ...  \n",
       "2025-02-24   -0.024801    -0.024296  \n",
       "2025-02-25   -0.038557    -0.052911  \n",
       "2025-02-26    0.007332     0.022882  \n",
       "2025-02-27   -0.050105    -0.018454  \n",
       "2025-02-28    0.003346     0.027546  \n",
       "\n",
       "[236 rows x 7 columns]"
      ]
     },
     "execution_count": 44,
     "metadata": {},
     "output_type": "execute_result"
    }
   ],
   "source": [
    "returns"
   ]
  },
  {
   "cell_type": "code",
   "execution_count": 45,
   "id": "fe706305",
   "metadata": {},
   "outputs": [],
   "source": [
    "import statsmodels.api as sm"
   ]
  },
  {
   "cell_type": "markdown",
   "id": "61cc23d3",
   "metadata": {},
   "source": [
    "Defining the Independent variable as Nasdaq. As we are taking it as a Market Benchmark "
   ]
  },
  {
   "cell_type": "code",
   "execution_count": 46,
   "id": "6cd39070",
   "metadata": {},
   "outputs": [],
   "source": [
    "X = returns[['Excess_NASDAQ']]\n",
    "X = sm.add_constant(X) #independent variable"
   ]
  },
  {
   "cell_type": "markdown",
   "id": "7723c19a",
   "metadata": {},
   "source": [
    "Below Function will calcualte Beta and alpha which are the useful to perform CAPM Analysis "
   ]
  },
  {
   "cell_type": "code",
   "execution_count": 47,
   "id": "f4b8288c",
   "metadata": {},
   "outputs": [],
   "source": [
    "def calculate_beta(y):\n",
    "    model = sm.OLS(y, X).fit()\n",
    "    return model.summary(), model.params"
   ]
  },
  {
   "cell_type": "code",
   "execution_count": 48,
   "id": "a2fadc62",
   "metadata": {},
   "outputs": [],
   "source": [
    "AMD_summmary,beta_amd = calculate_beta(returns['Excess_AMD'])\n",
    "INTC_summary,beta_intc = calculate_beta(returns['Excess_INTC'])"
   ]
  },
  {
   "cell_type": "code",
   "execution_count": 49,
   "id": "bfb8085b",
   "metadata": {},
   "outputs": [
    {
     "name": "stdout",
     "output_type": "stream",
     "text": [
      "                            OLS Regression Results                            \n",
      "==============================================================================\n",
      "Dep. Variable:             Excess_AMD   R-squared:                       0.418\n",
      "Model:                            OLS   Adj. R-squared:                  0.415\n",
      "Method:                 Least Squares   F-statistic:                     167.8\n",
      "Date:                Sun, 16 Mar 2025   Prob (F-statistic):           2.74e-29\n",
      "Time:                        20:44:11   Log-Likelihood:                 570.32\n",
      "No. Observations:                 236   AIC:                            -1137.\n",
      "Df Residuals:                     234   BIC:                            -1130.\n",
      "Df Model:                           1                                         \n",
      "Covariance Type:            nonrobust                                         \n",
      "=================================================================================\n",
      "                    coef    std err          t      P>|t|      [0.025      0.975]\n",
      "---------------------------------------------------------------------------------\n",
      "const            -0.0032      0.001     -2.276      0.024      -0.006      -0.000\n",
      "Excess_NASDAQ     1.5420      0.119     12.952      0.000       1.307       1.777\n",
      "==============================================================================\n",
      "Omnibus:                       31.168   Durbin-Watson:                   2.148\n",
      "Prob(Omnibus):                  0.000   Jarque-Bera (JB):               68.431\n",
      "Skew:                          -0.634   Prob(JB):                     1.38e-15\n",
      "Kurtosis:                       5.313   Cond. No.                         84.4\n",
      "==============================================================================\n",
      "\n",
      "Notes:\n",
      "[1] Standard Errors assume that the covariance matrix of the errors is correctly specified.\n"
     ]
    }
   ],
   "source": [
    "print(AMD_summmary)"
   ]
  },
  {
   "cell_type": "markdown",
   "id": "d41f4d2a",
   "metadata": {},
   "source": [
    "NASDAQ’s excess return is a strong and statistically significant predictor of AMD’s excess return. <br>\n",
    "AMD is highly sensitive to NASDAQ movements (β > 1), indicating it is more volatile than the broader market. <br>\n",
    "Negative intercept suggests AMD underperforms slightly when NASDAQ has zero excess returns. <br>"
   ]
  },
  {
   "cell_type": "code",
   "execution_count": 50,
   "id": "95a49608",
   "metadata": {},
   "outputs": [
    {
     "name": "stdout",
     "output_type": "stream",
     "text": [
      "                            OLS Regression Results                            \n",
      "==============================================================================\n",
      "Dep. Variable:            Excess_INTC   R-squared:                       0.235\n",
      "Model:                            OLS   Adj. R-squared:                  0.232\n",
      "Method:                 Least Squares   F-statistic:                     71.80\n",
      "Date:                Sun, 16 Mar 2025   Prob (F-statistic):           2.68e-15\n",
      "Time:                        20:44:11   Log-Likelihood:                 485.96\n",
      "No. Observations:                 236   AIC:                            -967.9\n",
      "Df Residuals:                     234   BIC:                            -961.0\n",
      "Df Model:                           1                                         \n",
      "Covariance Type:            nonrobust                                         \n",
      "=================================================================================\n",
      "                    coef    std err          t      P>|t|      [0.025      0.975]\n",
      "---------------------------------------------------------------------------------\n",
      "const            -0.0025      0.002     -1.262      0.208      -0.007       0.001\n",
      "Excess_NASDAQ     1.4423      0.170      8.474      0.000       1.107       1.778\n",
      "==============================================================================\n",
      "Omnibus:                       95.360   Durbin-Watson:                   1.982\n",
      "Prob(Omnibus):                  0.000   Jarque-Bera (JB):             2068.491\n",
      "Skew:                          -1.003   Prob(JB):                         0.00\n",
      "Kurtosis:                      17.364   Cond. No.                         84.4\n",
      "==============================================================================\n",
      "\n",
      "Notes:\n",
      "[1] Standard Errors assume that the covariance matrix of the errors is correctly specified.\n"
     ]
    }
   ],
   "source": [
    "print(INTC_summary)"
   ]
  },
  {
   "cell_type": "markdown",
   "id": "fdb13331",
   "metadata": {},
   "source": [
    "NASDAQ’s excess return is a statistically significant predictor of Intel’s excess return. <br>\n",
    "Intel has a beta of 1.44, suggesting it is more volatile than the NASDAQ index.\n",
    "The intercept is not significant, meaning Intel’s standalone performance isn’t meaningfully different from zero. <br>\n",
    "Residuals indicate potential issues with normality, which might affect inference accuracy. <br>"
   ]
  },
  {
   "cell_type": "markdown",
   "id": "54796a54",
   "metadata": {},
   "source": [
    "<b> <H2> Comparsion: </H2> \n",
    "AMD’s excess returns are better explained by NASDAQ than Intel’s (higher R²). <br>\n",
    "AMD is slightly more sensitive to NASDAQ movements than Intel (higher beta). <br>\n",
    "Both models have non-normal residuals, which may impact inference. <br>\n",
    "Intel’s intercept is not significant, meaning its baseline performance is uncertain. <br>"
   ]
  },
  {
   "cell_type": "code",
   "execution_count": 51,
   "id": "aac8a5f7",
   "metadata": {},
   "outputs": [
    {
     "name": "stdout",
     "output_type": "stream",
     "text": [
      "const           -0.003215\n",
      "Excess_NASDAQ    1.542028\n",
      "dtype: float64\n"
     ]
    }
   ],
   "source": [
    "print(beta_amd)\n"
   ]
  },
  {
   "cell_type": "code",
   "execution_count": 52,
   "id": "91e00df2",
   "metadata": {},
   "outputs": [
    {
     "name": "stdout",
     "output_type": "stream",
     "text": [
      "const           -0.002548\n",
      "Excess_NASDAQ    1.442307\n",
      "dtype: float64\n"
     ]
    }
   ],
   "source": [
    "print(beta_intc)"
   ]
  },
  {
   "cell_type": "code",
   "execution_count": 53,
   "id": "428701f7",
   "metadata": {},
   "outputs": [],
   "source": [
    "beta_amd = beta_amd[1]\n",
    "beta_intc = beta_intc[1]"
   ]
  },
  {
   "cell_type": "code",
   "execution_count": 54,
   "id": "b424c773",
   "metadata": {},
   "outputs": [
    {
     "name": "stdout",
     "output_type": "stream",
     "text": [
      "Beta Of AMD 1.5420275125896523\n",
      "Beta of Intel 1.4423066453217572\n"
     ]
    }
   ],
   "source": [
    "print(\"Beta Of AMD\",beta_amd)\n",
    "print(\"Beta of Intel\", beta_intc)"
   ]
  },
  {
   "cell_type": "markdown",
   "id": "14c84fef",
   "metadata": {},
   "source": [
    "Calculating the Expected returns "
   ]
  },
  {
   "cell_type": "code",
   "execution_count": 55,
   "id": "01c4ac84",
   "metadata": {},
   "outputs": [],
   "source": [
    "expected_return_amd = returns['Interest Rates'] + beta_amd * returns['Excess_NASDAQ']\n",
    "expected_return_intc = returns['Interest Rates'] + beta_intc * returns['Excess_NASDAQ']"
   ]
  },
  {
   "cell_type": "code",
   "execution_count": 56,
   "id": "4fd5e477",
   "metadata": {},
   "outputs": [],
   "source": [
    "returns['Expected_AMD'] = expected_return_amd\n",
    "returns['Expected_INTC'] = expected_return_intc"
   ]
  },
  {
   "cell_type": "code",
   "execution_count": 57,
   "id": "a2fb6121",
   "metadata": {},
   "outputs": [
    {
     "name": "stdout",
     "output_type": "stream",
     "text": [
      "            Expected_AMD  Expected_INTC\n",
      "2024-03-19      0.005947       0.005577\n",
      "2024-03-20      0.019209       0.017981\n",
      "2024-03-21      0.002937       0.002761\n",
      "2024-03-22      0.002419       0.002277\n",
      "2024-03-25     -0.004280      -0.003989\n"
     ]
    }
   ],
   "source": [
    "print(returns[['Expected_AMD', 'Expected_INTC']].head())"
   ]
  },
  {
   "cell_type": "code",
   "execution_count": 58,
   "id": "1d93c84e",
   "metadata": {},
   "outputs": [
    {
     "data": {
      "text/html": [
       "<div>\n",
       "<style scoped>\n",
       "    .dataframe tbody tr th:only-of-type {\n",
       "        vertical-align: middle;\n",
       "    }\n",
       "\n",
       "    .dataframe tbody tr th {\n",
       "        vertical-align: top;\n",
       "    }\n",
       "\n",
       "    .dataframe thead th {\n",
       "        text-align: right;\n",
       "    }\n",
       "</style>\n",
       "<table border=\"1\" class=\"dataframe\">\n",
       "  <thead>\n",
       "    <tr style=\"text-align: right;\">\n",
       "      <th></th>\n",
       "      <th>AMD</th>\n",
       "      <th>INTC</th>\n",
       "      <th>NASDAQ</th>\n",
       "      <th>Interest Rates</th>\n",
       "      <th>Excess_NASDAQ</th>\n",
       "      <th>Excess_AMD</th>\n",
       "      <th>Excess_INTC</th>\n",
       "      <th>Expected_AMD</th>\n",
       "      <th>Expected_INTC</th>\n",
       "    </tr>\n",
       "  </thead>\n",
       "  <tbody>\n",
       "    <tr>\n",
       "      <th>2024-03-19</th>\n",
       "      <td>-0.048413</td>\n",
       "      <td>-0.015453</td>\n",
       "      <td>0.003933</td>\n",
       "      <td>0.000217</td>\n",
       "      <td>0.003716</td>\n",
       "      <td>-0.048631</td>\n",
       "      <td>-0.015671</td>\n",
       "      <td>0.005947</td>\n",
       "      <td>0.005577</td>\n",
       "    </tr>\n",
       "    <tr>\n",
       "      <th>2024-03-20</th>\n",
       "      <td>-0.009315</td>\n",
       "      <td>0.003567</td>\n",
       "      <td>0.012533</td>\n",
       "      <td>0.000217</td>\n",
       "      <td>0.012316</td>\n",
       "      <td>-0.009532</td>\n",
       "      <td>0.003350</td>\n",
       "      <td>0.019209</td>\n",
       "      <td>0.017981</td>\n",
       "    </tr>\n",
       "    <tr>\n",
       "      <th>2024-03-21</th>\n",
       "      <td>-0.005842</td>\n",
       "      <td>0.005213</td>\n",
       "      <td>0.001981</td>\n",
       "      <td>0.000217</td>\n",
       "      <td>0.001764</td>\n",
       "      <td>-0.006060</td>\n",
       "      <td>0.004996</td>\n",
       "      <td>0.002937</td>\n",
       "      <td>0.002761</td>\n",
       "    </tr>\n",
       "    <tr>\n",
       "      <th>2024-03-22</th>\n",
       "      <td>0.005429</td>\n",
       "      <td>0.003536</td>\n",
       "      <td>0.001645</td>\n",
       "      <td>0.000217</td>\n",
       "      <td>0.001428</td>\n",
       "      <td>0.005212</td>\n",
       "      <td>0.003319</td>\n",
       "      <td>0.002419</td>\n",
       "      <td>0.002277</td>\n",
       "    </tr>\n",
       "    <tr>\n",
       "      <th>2024-03-25</th>\n",
       "      <td>-0.005678</td>\n",
       "      <td>-0.017383</td>\n",
       "      <td>-0.002699</td>\n",
       "      <td>0.000217</td>\n",
       "      <td>-0.002916</td>\n",
       "      <td>-0.005894</td>\n",
       "      <td>-0.017600</td>\n",
       "      <td>-0.004280</td>\n",
       "      <td>-0.003989</td>\n",
       "    </tr>\n",
       "    <tr>\n",
       "      <th>...</th>\n",
       "      <td>...</td>\n",
       "      <td>...</td>\n",
       "      <td>...</td>\n",
       "      <td>...</td>\n",
       "      <td>...</td>\n",
       "      <td>...</td>\n",
       "      <td>...</td>\n",
       "      <td>...</td>\n",
       "      <td>...</td>\n",
       "    </tr>\n",
       "    <tr>\n",
       "      <th>2025-02-24</th>\n",
       "      <td>-0.024630</td>\n",
       "      <td>-0.024125</td>\n",
       "      <td>-0.012143</td>\n",
       "      <td>0.000171</td>\n",
       "      <td>-0.012314</td>\n",
       "      <td>-0.024801</td>\n",
       "      <td>-0.024296</td>\n",
       "      <td>-0.018818</td>\n",
       "      <td>-0.017590</td>\n",
       "    </tr>\n",
       "    <tr>\n",
       "      <th>2025-02-25</th>\n",
       "      <td>-0.038387</td>\n",
       "      <td>-0.052740</td>\n",
       "      <td>-0.013509</td>\n",
       "      <td>0.000171</td>\n",
       "      <td>-0.013679</td>\n",
       "      <td>-0.038557</td>\n",
       "      <td>-0.052911</td>\n",
       "      <td>-0.020923</td>\n",
       "      <td>-0.019559</td>\n",
       "    </tr>\n",
       "    <tr>\n",
       "      <th>2025-02-26</th>\n",
       "      <td>0.007503</td>\n",
       "      <td>0.023054</td>\n",
       "      <td>0.002568</td>\n",
       "      <td>0.000171</td>\n",
       "      <td>0.002397</td>\n",
       "      <td>0.007332</td>\n",
       "      <td>0.022882</td>\n",
       "      <td>0.003868</td>\n",
       "      <td>0.003629</td>\n",
       "    </tr>\n",
       "    <tr>\n",
       "      <th>2025-02-27</th>\n",
       "      <td>-0.049933</td>\n",
       "      <td>-0.018282</td>\n",
       "      <td>-0.027829</td>\n",
       "      <td>0.000171</td>\n",
       "      <td>-0.028000</td>\n",
       "      <td>-0.050105</td>\n",
       "      <td>-0.018454</td>\n",
       "      <td>-0.043006</td>\n",
       "      <td>-0.040213</td>\n",
       "    </tr>\n",
       "    <tr>\n",
       "      <th>2025-02-28</th>\n",
       "      <td>0.003517</td>\n",
       "      <td>0.027718</td>\n",
       "      <td>0.016332</td>\n",
       "      <td>0.000171</td>\n",
       "      <td>0.016160</td>\n",
       "      <td>0.003346</td>\n",
       "      <td>0.027546</td>\n",
       "      <td>0.025091</td>\n",
       "      <td>0.023479</td>\n",
       "    </tr>\n",
       "  </tbody>\n",
       "</table>\n",
       "<p>236 rows × 9 columns</p>\n",
       "</div>"
      ],
      "text/plain": [
       "                 AMD      INTC    NASDAQ  Interest Rates  Excess_NASDAQ  \\\n",
       "2024-03-19 -0.048413 -0.015453  0.003933        0.000217       0.003716   \n",
       "2024-03-20 -0.009315  0.003567  0.012533        0.000217       0.012316   \n",
       "2024-03-21 -0.005842  0.005213  0.001981        0.000217       0.001764   \n",
       "2024-03-22  0.005429  0.003536  0.001645        0.000217       0.001428   \n",
       "2024-03-25 -0.005678 -0.017383 -0.002699        0.000217      -0.002916   \n",
       "...              ...       ...       ...             ...            ...   \n",
       "2025-02-24 -0.024630 -0.024125 -0.012143        0.000171      -0.012314   \n",
       "2025-02-25 -0.038387 -0.052740 -0.013509        0.000171      -0.013679   \n",
       "2025-02-26  0.007503  0.023054  0.002568        0.000171       0.002397   \n",
       "2025-02-27 -0.049933 -0.018282 -0.027829        0.000171      -0.028000   \n",
       "2025-02-28  0.003517  0.027718  0.016332        0.000171       0.016160   \n",
       "\n",
       "            Excess_AMD  Excess_INTC  Expected_AMD  Expected_INTC  \n",
       "2024-03-19   -0.048631    -0.015671      0.005947       0.005577  \n",
       "2024-03-20   -0.009532     0.003350      0.019209       0.017981  \n",
       "2024-03-21   -0.006060     0.004996      0.002937       0.002761  \n",
       "2024-03-22    0.005212     0.003319      0.002419       0.002277  \n",
       "2024-03-25   -0.005894    -0.017600     -0.004280      -0.003989  \n",
       "...                ...          ...           ...            ...  \n",
       "2025-02-24   -0.024801    -0.024296     -0.018818      -0.017590  \n",
       "2025-02-25   -0.038557    -0.052911     -0.020923      -0.019559  \n",
       "2025-02-26    0.007332     0.022882      0.003868       0.003629  \n",
       "2025-02-27   -0.050105    -0.018454     -0.043006      -0.040213  \n",
       "2025-02-28    0.003346     0.027546      0.025091       0.023479  \n",
       "\n",
       "[236 rows x 9 columns]"
      ]
     },
     "execution_count": 58,
     "metadata": {},
     "output_type": "execute_result"
    }
   ],
   "source": [
    "returns"
   ]
  },
  {
   "cell_type": "markdown",
   "id": "ec09f069",
   "metadata": {},
   "source": [
    "Calculating the Sharpe Ratios "
   ]
  },
  {
   "cell_type": "code",
   "execution_count": 59,
   "id": "e7318ae0",
   "metadata": {},
   "outputs": [],
   "source": [
    "sharpe_amd = returns['Excess_AMD'].mean() / returns['Excess_AMD'].std()\n",
    "sharpe_intc = returns['Excess_INTC'].mean() / returns['Excess_INTC'].std()"
   ]
  },
  {
   "cell_type": "code",
   "execution_count": 60,
   "id": "daab4cf9",
   "metadata": {},
   "outputs": [
    {
     "name": "stdout",
     "output_type": "stream",
     "text": [
      "-0.08619346440964265\n",
      "-0.05164504803550624\n"
     ]
    }
   ],
   "source": [
    "print(sharpe_amd)\n",
    "print(sharpe_intc)"
   ]
  },
  {
   "cell_type": "markdown",
   "id": "d0e3e96c",
   "metadata": {},
   "source": [
    "<h3> Key Insights: </h3>\n",
    "Negative Sharpe Ratios <br>\n",
    "\n",
    "Both AMD and Intel have negative Sharpe Ratios, meaning their risk-free adjusted returns were negative, indicating underperformance relative to risk. <br>\n",
    "Investors were not adequately compensated for the volatility in these stocks.<br>\n",
    "AMD vs. INTC <br>\n",
    "\n",
    "AMD’s Sharpe Ratio (-0.0864) is lower than Intel’s (-0.0514), suggesting AMD had a worse risk-adjusted return. <br>\n",
    "Even though AMD has a higher beta (1.54 vs. 1.44) and reacts more strongly to market movements, it did not translate into better risk-adjusted performance. <br>\n",
    "Implications <br>\n",
    "\n",
    "A negative Sharpe Ratio typically discourages investment, as it implies the asset underperformed relative to risk-free alternatives.\n",
    "Intel performed slightly better than AMD in risk-adjusted terms, but both performed poorly overall. <br>"
   ]
  },
  {
   "cell_type": "markdown",
   "id": "bcbe7567",
   "metadata": {},
   "source": [
    "<b> <h2> Final Verdict </H2> <br>\n",
    "Both of the stocks are not worth to investment while market indexes are giving higher returns. To find the winner between both, Intel has better risk to return ratio. "
   ]
  }
 ],
 "metadata": {
  "kernelspec": {
   "display_name": "base",
   "language": "python",
   "name": "python3"
  },
  "language_info": {
   "codemirror_mode": {
    "name": "ipython",
    "version": 3
   },
   "file_extension": ".py",
   "mimetype": "text/x-python",
   "name": "python",
   "nbconvert_exporter": "python",
   "pygments_lexer": "ipython3",
   "version": "3.12.7"
  }
 },
 "nbformat": 4,
 "nbformat_minor": 5
}
